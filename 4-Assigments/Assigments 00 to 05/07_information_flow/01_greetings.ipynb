{
 "cells": [
  {
   "cell_type": "markdown",
   "id": "1199ba1b",
   "metadata": {},
   "source": [
    "## Problem Statement\n",
    "\n",
    "We've written a helper function for you called greet(name) which takes as input a string name and prints a greeting. Write some code in main() to get the user's name and then greet them, being sure to call the greet(name) helper function.\n",
    "\n",
    "Here's a sample run of the program (user input in bold italics):\n",
    "\n",
    "What's your name? Sophia\n",
    "\n",
    "Greetings Sophia!\n",
    "\n",
    "## Solution"
   ]
  },
  {
   "cell_type": "code",
   "execution_count": null,
   "id": "ec6f1548",
   "metadata": {},
   "outputs": [],
   "source": [
    "def main():\n",
    "    while True:\n",
    "        name : str = input(\"What's your name? \")\n",
    "    \n",
    "        if name == \"\":\n",
    "            print(\"please enter a name\")\n",
    "            continue    \n",
    "        else:\n",
    "            print(greet(name))\n",
    "            return\n",
    "\n",
    "def greet(name):\n",
    "    return f\"Greetings {name}!\"\n",
    "\t\n",
    "if __name__ == '__main__':\n",
    "    main()"
   ]
  }
 ],
 "metadata": {
  "language_info": {
   "name": "python"
  }
 },
 "nbformat": 4,
 "nbformat_minor": 5
}
