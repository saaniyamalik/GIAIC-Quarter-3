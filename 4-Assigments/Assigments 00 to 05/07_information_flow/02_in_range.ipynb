{
 "cells": [
  {
   "cell_type": "markdown",
   "id": "744f2f72",
   "metadata": {},
   "source": [
    "## Problem Statement\n",
    "\n",
    "Implement the following function which takes in 3 integers as parameters:\n",
    "\n",
    "def in_range(n, low, high)\n",
    "  \"\"\"\n",
    "  Returns True if n is between low and high, inclusive. \n",
    "  high is guaranteed to be greater than low.\n",
    "  \"\"\"\n",
    "\n",
    "## Solution"
   ]
  },
  {
   "cell_type": "code",
   "execution_count": null,
   "id": "2dda22b4",
   "metadata": {},
   "outputs": [],
   "source": [
    "def in_range(n, low, high):\n",
    "    \n",
    "    if n >= low and n <= high:\n",
    "\t    return True\n",
    "\n",
    "    return False\n",
    "\n",
    "def main():\n",
    "    print(in_range(5, 1, 10))  \n",
    "    print(in_range(0, 1, 10))  \n",
    "    print(in_range(11, 1, 10)) \n",
    "    print(in_range(5, 5, 6))  \n",
    "    \n",
    "if __name__ == '__main__':\n",
    "    main()"
   ]
  }
 ],
 "metadata": {
  "language_info": {
   "name": "python"
  }
 },
 "nbformat": 4,
 "nbformat_minor": 5
}
