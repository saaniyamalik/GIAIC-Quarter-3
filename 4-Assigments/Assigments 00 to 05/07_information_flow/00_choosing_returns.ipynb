{
 "cells": [
  {
   "cell_type": "markdown",
   "id": "a51b0a8f",
   "metadata": {},
   "source": [
    "## Problem Statement\n",
    "\n",
    "There are times where we want to return different things from a function based on some condition. To practice this idea, imagine that we want to check if someone is an adult. We might check their age and return different things depending on how old they are!\n",
    "\n",
    "We've provided you with the ADULT_AGE variable which has the age a person is legally classified as an adult (in the United States). Fill out the is_adult(age) function, which returns True if the function takes an age that is greater than or equal to ADULT_AGE. If the function takes an age less than ADULT_AGE, return False instead.\n",
    "\n",
    "Here are two sample runs of the program, one for each return option (user input in bold italics):\n",
    "\n",
    "(Entered age is an adult age)\n",
    "\n",
    "How old is this person?: 35\n",
    "\n",
    "True\n",
    "\n",
    "(Entered age is not an adult age)\n",
    "\n",
    "How old is this person?: 7\n",
    "\n",
    "False\n",
    "\n",
    "## Solution"
   ]
  },
  {
   "cell_type": "code",
   "execution_count": null,
   "id": "5048d205",
   "metadata": {},
   "outputs": [],
   "source": [
    "\n",
    "ADULT_AGE : int = 18 \n",
    "\n",
    "def is_adult(age: int):\n",
    "    if age >= ADULT_AGE:\n",
    "        return \"This person is an adult.\"\n",
    "    \n",
    "    return \"This person is not an adult.\"\n",
    "    \n",
    "    \n",
    "def main():\n",
    "\n",
    "    while True:\n",
    "        try:\n",
    "            age : str = input(\"How old is this person?: \")\n",
    "            \n",
    "            if age == \"\":\n",
    "                break\n",
    "            \n",
    "            age: int = int(age)\n",
    "            if age < 1:\n",
    "                print(\"Age cannot be negative or zero.\")\n",
    "                continue\n",
    "            \n",
    "            print(is_adult(age))\n",
    "\n",
    "        except ValueError:\n",
    "            print(\"Please enter a valid age.\")\n",
    "\n",
    "if __name__ == \"__main__\":\n",
    "    main()\n"
   ]
  }
 ],
 "metadata": {
  "language_info": {
   "name": "python"
  }
 },
 "nbformat": 4,
 "nbformat_minor": 5
}
