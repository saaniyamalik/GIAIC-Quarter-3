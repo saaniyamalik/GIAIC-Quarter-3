{
 "cells": [
  {
   "cell_type": "markdown",
   "id": "e9a912a9",
   "metadata": {},
   "source": [
    "## Problem Statement\n",
    "\n",
    "Sophia has a fruit store. She has written a function num_in_stock which takes a string fruit as a parameter and returns how many of that fruit are in her inventory. Write code in main() which will:\n",
    "\n",
    "Prompt the user to enter a fruit (\"Enter a fruit: \")\n",
    "\n",
    "Call num_in_stock(fruit) to get the number of that fruit that Sophia has in stock\n",
    "\n",
    "Print the number which are in stock if Sophia has that fruit in her inventory (there are more than 0 in stock)\n",
    "\n",
    "Print \"This fruit is not in stock.\" if Sophia has none of that fruit in her inventory.\n",
    "\n",
    "Here's two sample runs of the program (user input in bold italics):\n",
    "\n",
    "Enter a fruit: pear\n",
    "\n",
    "This fruit is in stock! Here is how many:\n",
    "\n",
    "1000\n",
    "\n",
    "Enter a fruit: lychee\n",
    "\n",
    "This fruit is not in stock.\n",
    "\n",
    "## Solution"
   ]
  },
  {
   "cell_type": "code",
   "execution_count": null,
   "id": "6bfa4d2c",
   "metadata": {},
   "outputs": [],
   "source": [
    "def main():\n",
    "\n",
    "    fruit: str = input(\"Enter a fruit: \").strip().lower()\n",
    "    \n",
    "    if fruit == '':\n",
    "        print(\"You did not enter any fruit.\")\n",
    "        return\n",
    "\n",
    "    stock: int = num_in_stock(fruit)\n",
    "    \n",
    "    if stock == 0:\n",
    "        print(\"This fruit is not in stock.\")\n",
    "    else:\n",
    "        print(\"This fruit is in stock! Here is how many:\")\n",
    "        print(stock)\n",
    "\n",
    "\n",
    "def num_in_stock(fruit):\n",
    "\n",
    "    if fruit == 'apple':\n",
    "        return 2\n",
    "    elif fruit == 'durian':\n",
    "        return 4\n",
    "    elif fruit == 'pear':\n",
    "        return 1000\n",
    "    else:\n",
    "        return 0\n",
    "\n",
    "\n",
    "if __name__ == '__main__':\n",
    "    main()\n"
   ]
  }
 ],
 "metadata": {
  "language_info": {
   "name": "python"
  }
 },
 "nbformat": 4,
 "nbformat_minor": 5
}
