{
 "cells": [
  {
   "cell_type": "markdown",
   "id": "68aa2a40",
   "metadata": {},
   "source": [
    "## Problem Statement\n",
    "\n",
    "There are times where you are working with lots of different data within a function that you want to return. While generally, we want to keep functions to have a precise purpose, sometimes that purpose just deals with multiple bits of data.\n",
    "\n",
    "To practice this, imagine we are working on a program where the user needs to enters data to sign up for a website. Fill out the get_user_data() function which:\n",
    "\n",
    "Asks the user for their first name and stores it in a variable\n",
    "\n",
    "Asks the user for their last name and stores it in a variable\n",
    "\n",
    "Asks the user for their email address and stores it in a variable\n",
    "\n",
    "Returns all three of these pieces of data in the order it was asked\n",
    "\n",
    "You can return multiple pieces of data by separating each piece with a comma in the return line.\n",
    "\n",
    "Here is an example run of the program:\n",
    "\n",
    "What is your first name?: Jane\n",
    "\n",
    "What is your last name?: Stanford\n",
    "\n",
    "What is your email address?: janestanford@stanford.edu\n",
    "\n",
    "Received the following user data: ('Jane', 'Stanford', 'janestanford@stanford.edu')\n",
    "\n",
    "(Note. This idea is called tuple packing/unpacking. We \"pack\" our return values into a single data structure called a tuple. We can then \"unpack\" these values back into our original values or leave them as a tuple.)\n",
    "\n",
    "## Solution"
   ]
  },
  {
   "cell_type": "code",
   "execution_count": null,
   "id": "ae5582cd",
   "metadata": {},
   "outputs": [],
   "source": [
    "from typing import Tuple\n",
    "\n",
    "def get_user_info():\n",
    "    \n",
    "    first_name: str = input(\"What is your first name?: \")\n",
    "    last_name: str = input(\"What is your last name?: \")\n",
    "    email_address : str = input(\"What is your email address?: \")\n",
    "    \n",
    "    return first_name, last_name, email_address\n",
    "\n",
    "def main():\n",
    "    user_data: Tuple = get_user_info()\n",
    "    print(\"Received the following user data:\", user_data)\n",
    "\n",
    "if __name__ == \"__main__\":\n",
    "     main()"
   ]
  }
 ],
 "metadata": {
  "language_info": {
   "name": "python"
  }
 },
 "nbformat": 4,
 "nbformat_minor": 5
}
