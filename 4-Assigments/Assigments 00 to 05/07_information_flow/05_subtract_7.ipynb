{
 "cells": [
  {
   "cell_type": "markdown",
   "id": "61907765",
   "metadata": {},
   "source": [
    "## Problem Statement\n",
    "\n",
    "Fill out the subtract_seven helper function to subtract 7 from num, and fill out the main() method to call the subtract_seven helper function! If you're stuck, revisit the add_five example from lecture.\n",
    "\n",
    "## Solution"
   ]
  },
  {
   "cell_type": "code",
   "execution_count": null,
   "id": "86b87852",
   "metadata": {},
   "outputs": [],
   "source": [
    "def main():\n",
    "\n",
    "\tnum: int = 7\n",
    "\tnum: int = subtract_seven(num)\n",
    "\tprint(\"this should be zero: \", num)\n",
    "\n",
    "def subtract_seven(num):\n",
    "\tnum = num - 7\n",
    "\treturn num\n",
    "\n",
    "if __name__ == '__main__':\n",
    "    main()"
   ]
  }
 ],
 "metadata": {
  "language_info": {
   "name": "python"
  }
 },
 "nbformat": 4,
 "nbformat_minor": 5
}
