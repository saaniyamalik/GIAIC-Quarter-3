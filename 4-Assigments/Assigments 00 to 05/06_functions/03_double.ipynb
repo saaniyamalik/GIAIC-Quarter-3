{
 "cells": [
  {
   "cell_type": "markdown",
   "id": "c101becd",
   "metadata": {},
   "source": [
    "## Problem Statement\n",
    "\n",
    "Fill out the double(num) function to return the result of multiplying num by 2. We've written a main() function for you which asks the user for a number, calls your code for double(num) , and prints the result.\n",
    "\n",
    "Here's a sample run of the program (user input in bold italics):\n",
    "\n",
    "Enter a number: 2 \n",
    "Double that is 4\n",
    "\n",
    "## Solution"
   ]
  },
  {
   "cell_type": "code",
   "execution_count": null,
   "id": "c4a9b246",
   "metadata": {},
   "outputs": [],
   "source": [
    "def double(num: int):\n",
    "    return num * 2\n",
    "\n",
    "def main():\n",
    "    try:\n",
    "        num:int = int(input(\"Enter a number: \"))\n",
    "        num_times_2 = double(num)\n",
    "        print(\"Double that is\", num_times_2)\n",
    "    except ValueError:\n",
    "        print(\"Please enter a valid integer.\")\n",
    "\n",
    "if __name__ == '__main__':\n",
    "    main()\n"
   ]
  }
 ],
 "metadata": {
  "language_info": {
   "name": "python"
  }
 },
 "nbformat": 4,
 "nbformat_minor": 5
}
