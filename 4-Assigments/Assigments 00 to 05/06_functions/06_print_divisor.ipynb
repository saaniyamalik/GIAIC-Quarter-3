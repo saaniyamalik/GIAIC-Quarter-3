{
 "cells": [
  {
   "cell_type": "markdown",
   "id": "34dd6e11",
   "metadata": {},
   "source": [
    "## Problem Statement\n",
    "\n",
    "Write the helper function print_divisors(num), which takes in a number and prints all of its divisors (all the numbers from 1 to num inclusive that num can be cleanly divided by (there is no remainder to the division). Don't forget to call your function in main()!\n",
    "\n",
    "Here's a sample run (user input is in blue):\n",
    "\n",
    "Enter a number: 12 \n",
    "Here are the divisors of 12 \n",
    "1 \n",
    "2 \n",
    "3 \n",
    "4 \n",
    "6 \n",
    "12\n",
    "\n",
    "## Solution"
   ]
  },
  {
   "cell_type": "code",
   "execution_count": null,
   "id": "1d206c78",
   "metadata": {},
   "outputs": [],
   "source": [
    "def print_divisors(num: int):\n",
    "    \"\"\"Prints all the divisors of a given number.\"\"\"\n",
    "    \n",
    "    print(\"Here are the divisors of\", num)\n",
    "    \n",
    "    for i in range(num):\n",
    "        curr_divisor = i + 1\n",
    "        if num % curr_divisor == 0:\n",
    "            print(curr_divisor)\n",
    "\n",
    "def main():\n",
    "    num = int(input(\"Enter a number: \"))\n",
    "    print_divisors(num)\n",
    "\n",
    "if __name__ == '__main__':\n",
    "    main()\n"
   ]
  }
 ],
 "metadata": {
  "language_info": {
   "name": "python"
  }
 },
 "nbformat": 4,
 "nbformat_minor": 5
}
