{
 "cells": [
  {
   "cell_type": "markdown",
   "id": "d5e5c2d7",
   "metadata": {},
   "source": [
    "## Problem Statement\n",
    "\n",
    "Implement the helper function make_sentence(word, part_of_speech) which will take a string word and an integer part_of_speech as parameters and, depending on the part of speech, place the word into one of three sentence templates (or one from your imagination!):\n",
    "\n",
    "If part_of_speech is 0, we will assume the word is a noun and use the template: \"I am excited to add this ____ to my vast collection of them!\"\n",
    "\n",
    "If part_of_speech is 1, we will assume the word is a verb use the template: \"It's so nice outside today it makes me want to ____!\"\n",
    "\n",
    "If part_of_speech is 2, we will assume the word is an adjective and use the template: \"Looking out my window, the sky is big and ____!\" make_sentence(word, part_of_speech) should not return anything, just print the correct sentence with the word filled in the blank.\n",
    "\n",
    "Here's a sample run of the program (user input is in blue):\n",
    "\n",
    "Please type a noun, verb, or adjective: groovy \n",
    "Is this a noun, verb, or adjective?\n",
    "Type 0 for noun, 1 for verb, 2 for adjective: 2 \n",
    "Looking out my window, the sky is big and groovy!\n",
    "\n",
    "## Solution"
   ]
  },
  {
   "cell_type": "code",
   "execution_count": null,
   "id": "7702f30e",
   "metadata": {},
   "outputs": [],
   "source": [
    "def make_sentence(word, part_of_speech):\n",
    "    \n",
    "    if part_of_speech == 0:\n",
    "        print(f\"I am excited to add this {word} to my vast collection of them!\")\n",
    "        \n",
    "    elif part_of_speech == 1:\n",
    "        print(f\"It's so nice outside today it makes me want to {word}!\")\n",
    "        \n",
    "    elif part_of_speech == 2:\n",
    "        print(f\"Looking out my window, the sky is big and {word}!\")\n",
    "        \n",
    "    else:\n",
    "        print(\"Part of speech must be 0, 1, or 2! Can't make a sentence.\")\n",
    "\n",
    "\n",
    "def main():\n",
    "    try:\n",
    "        word :  str = input(\"Please type a noun, verb, or adjective: \")\n",
    "        print(\"Is this a noun, verb, or adjective?\")\n",
    "        \n",
    "        part_of_speech: int = int(input(\"Type \\n0 for noun, \\n1 for verb, \\n2 for adjective \\nexample: 0: \"))\n",
    "        make_sentence(word, part_of_speech)\n",
    "        \n",
    "    except ValueError:\n",
    "        print(\"Please enter a number for part of speech.\")\n",
    "\n",
    "if __name__ == '__main__':\n",
    "    main()\n"
   ]
  }
 ],
 "metadata": {
  "language_info": {
   "name": "python"
  }
 },
 "nbformat": 4,
 "nbformat_minor": 5
}
