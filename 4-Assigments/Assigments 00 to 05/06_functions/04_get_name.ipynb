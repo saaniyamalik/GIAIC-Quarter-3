{
 "cells": [
  {
   "cell_type": "markdown",
   "id": "a29fe353",
   "metadata": {},
   "source": [
    "## Problem Statement\n",
    "\n",
    "Fill out the get_name() function to return your name as a string! We've written a main() function for you which calls your function to retrieve your name and then prints it in a greeting.\n",
    "\n",
    "Here's a sample run of the program where the name we've decided to return is Sophia (the autograder expects the returned name to be Sophia):\n",
    "\n",
    "Howdy Sophia ! 🤠\n",
    "\n",
    "## Solution"
   ]
  },
  {
   "cell_type": "code",
   "execution_count": null,
   "id": "ed9a04f5",
   "metadata": {},
   "outputs": [],
   "source": [
    "class Color:\n",
    "    BLUE = \"\\033[94m\"\n",
    "    GREEN = \"\\033[92m\"\n",
    "    RED = \"\\033[91m\"\n",
    "    RESET = \"\\033[0m\"\n",
    "\n",
    "def get_name():\n",
    "\n",
    "    name = input(f\"{Color.BLUE}Enter your name: \")\n",
    "    \n",
    "    if not name:\n",
    "        print(f\"{Color.RED}Name cannot be empty{Color.RESET}\")\n",
    "        exit()\n",
    "        \n",
    "    return name\n",
    "    \n",
    "def main():\n",
    "    name = get_name()\n",
    "    print(f\"{Color.GREEN}Howdy {name} ! 🤠{Color.RESET}\")\n",
    "\n",
    "if __name__ == '__main__':\n",
    "    main()\n"
   ]
  }
 ],
 "metadata": {
  "language_info": {
   "name": "python"
  }
 },
 "nbformat": 4,
 "nbformat_minor": 5
}
