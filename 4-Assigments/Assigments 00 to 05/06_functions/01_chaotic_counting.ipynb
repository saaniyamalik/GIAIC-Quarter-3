{
 "cells": [
  {
   "cell_type": "markdown",
   "id": "1a8f94f9",
   "metadata": {},
   "source": [
    "## Problem Statement\n",
    "\n",
    "Fill out the chaotic_counting() function, which prints the numbers from 1 to 10, but with a catch. We've written a done() function which returns True with likelihood DONE_LIKELIHOOD -- at each number, before printing the number, you should call done() and check if it returns True or not. If done() returns True, we're done counting, and you should use a return statement to end the chaotic_counting() function execution and resume execution of main(), which will print \"I'm done.\". We've written main() for you -- check it out! Notice that we'll only print \"I'm done\" from main() once chaotic_counting() is done with its execution.\n",
    "\n",
    "Here's a sample run of this program:\n",
    "\n",
    "I'm going to count until 10 or until I feel like stopping, whichever comes first. \n",
    "1 \n",
    "2 \n",
    "3 \n",
    "I'm done.\n",
    "\n",
    "## Solution"
   ]
  },
  {
   "cell_type": "code",
   "execution_count": null,
   "id": "4faa8cd8",
   "metadata": {},
   "outputs": [],
   "source": [
    "import random\n",
    "\n",
    "DONE_LIKELIHOOD: float = 0.2\n",
    "\n",
    "def chaotic_counting():\n",
    "    for i in range(10):\n",
    "        curr_num: int = i + 1\n",
    "        if done():\n",
    "            return \n",
    "        print(curr_num)\n",
    "\n",
    "def done():\n",
    "    \"\"\" Returns True with a probability of DONE_LIKELIHOOD \"\"\"\n",
    "    if random.random() < DONE_LIKELIHOOD:\n",
    "        return True\n",
    "    return False\n",
    "\n",
    "def main():\n",
    "    print(\"I'm going to count until 10 or until I feel like stopping, whichever comes first.\")\n",
    "    chaotic_counting()\n",
    "    print(\"I'm done\")\n",
    "\n",
    "if __name__ == \"__main__\":\n",
    "    main()\n"
   ]
  }
 ],
 "metadata": {
  "language_info": {
   "name": "python"
  }
 },
 "nbformat": 4,
 "nbformat_minor": 5
}
