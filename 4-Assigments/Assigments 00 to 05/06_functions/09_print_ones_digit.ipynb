{
 "cells": [
  {
   "cell_type": "markdown",
   "id": "0bcc5215",
   "metadata": {},
   "source": [
    "## Problem Statement\n",
    "\n",
    "Write a function called print_ones_digit , which takes as a parameter an integer num and prints its ones digit. The modulo (remainder) operator, %, should be helpful to you here. Call your function from main()!\n",
    "\n",
    "Here's a sample run (user input is in blue):\n",
    "\n",
    "Enter a number: 42\n",
    "The ones digit is 2\n",
    "\n",
    "## Solution"
   ]
  },
  {
   "cell_type": "code",
   "execution_count": null,
   "id": "82ea4f55",
   "metadata": {},
   "outputs": [],
   "source": [
    "def print_ones_digit(num):\n",
    "    print(f\"The ones digit is {num % 10}\")\n",
    "\n",
    "def main():\n",
    "    \n",
    "    try:\n",
    "        num: int = int(input(\"Enter a number: \"))\n",
    "        print_ones_digit(num)\n",
    "        \n",
    "    except ValueError:\n",
    "        print(\"Invalid input. Please enter a valid integer.\")\n",
    "\n",
    "if __name__ == '__main__':\n",
    "    main()"
   ]
  }
 ],
 "metadata": {
  "language_info": {
   "name": "python"
  }
 },
 "nbformat": 4,
 "nbformat_minor": 5
}
