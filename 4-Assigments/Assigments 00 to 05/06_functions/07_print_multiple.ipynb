{
 "cells": [
  {
   "cell_type": "markdown",
   "id": "aeb2b261",
   "metadata": {},
   "source": [
    "## Problem Statement\n",
    "\n",
    "Fill out print_multiple(message, repeats), which takes as parameters a string message to print, and an integer repeats number of times to print message. We've written the main() function for you, which prompts the user for a message and a number of repeats.\n",
    "\n",
    "Here's a sample run of the program (user input is in blue):\n",
    "\n",
    "Please type a message: Hello! \n",
    "Enter a number of times to repeat your message: 6 \n",
    "Hello! \n",
    "Hello! \n",
    "Hello! \n",
    "Hello! \n",
    "Hello! \n",
    "Hello!\n",
    "\n",
    "## Solution"
   ]
  },
  {
   "cell_type": "code",
   "execution_count": null,
   "id": "ec385986",
   "metadata": {},
   "outputs": [],
   "source": [
    "def print_multiple(message: str, repeats: int):\n",
    "    for i in range(repeats):\n",
    "        print(message)\n",
    "\n",
    "def main():\n",
    "    message: str = input(\"Please type a message: \")\n",
    "    \n",
    "    try:\n",
    "        repeats = int(input(\"Enter a number of times to repeat your message: \"))\n",
    "        print_multiple(message, repeats)\n",
    "    except ValueError:\n",
    "        print(\"Invalid input. Please enter a valid number.\")\n",
    "\n",
    "if __name__ == '__main__':\n",
    "    main()"
   ]
  }
 ],
 "metadata": {
  "language_info": {
   "name": "python"
  }
 },
 "nbformat": 4,
 "nbformat_minor": 5
}
