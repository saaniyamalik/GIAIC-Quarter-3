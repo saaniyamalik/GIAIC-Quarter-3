{
 "cells": [
  {
   "cell_type": "markdown",
   "id": "11eea76a",
   "metadata": {},
   "source": [
    "## Problem Statement\n",
    "\n",
    "10 even\n",
    "11 odd\n",
    "12 even\n",
    "13 odd\n",
    "14 even\n",
    "15 odd\n",
    "16 even\n",
    "17 odd\n",
    "18 even\n",
    "19 odd\n",
    "\n",
    "## Solution"
   ]
  },
  {
   "cell_type": "code",
   "execution_count": null,
   "id": "3fdd4462",
   "metadata": {},
   "outputs": [],
   "source": [
    "def is_odd(value: int):\n",
    "\n",
    "    remainder: int = value % 2  \n",
    "    return remainder == 1\n",
    "\n",
    "def main():\n",
    "    try:\n",
    "        value: int = int(input('Enter a number of range: '))\n",
    "        for i in range(1, value + 1):\n",
    "            if is_odd(i):\n",
    "                print(f'{i} is odd')\n",
    "            else:\n",
    "                print(f'{i} is even')\n",
    "    except ValueError:\n",
    "        print('Please enter a valid integer.')\n",
    "\n",
    "if __name__ == '__main__':\n",
    "    main()\n"
   ]
  }
 ],
 "metadata": {
  "language_info": {
   "name": "python"
  }
 },
 "nbformat": 4,
 "nbformat_minor": 5
}
