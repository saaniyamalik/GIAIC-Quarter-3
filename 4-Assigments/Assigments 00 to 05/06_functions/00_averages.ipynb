{
 "cells": [
  {
   "cell_type": "markdown",
   "id": "0dd44a21",
   "metadata": {},
   "source": [
    "## Problem Statement\n",
    "\n",
    "Write a function that takes two numbers and finds the average between the two.\n",
    "\n",
    "## Solution"
   ]
  },
  {
   "cell_type": "code",
   "execution_count": null,
   "id": "22274cc2",
   "metadata": {},
   "outputs": [],
   "source": [
    "def average(a: float, b: float) -> float:\n",
    "    sum: float = a + b\n",
    "    return sum / 2\n",
    "\n",
    "def main():\n",
    "    avg_1: float = average(0, 9)\n",
    "    avg_2: float = average(8, 10)\n",
    "    \n",
    "    final: float = average(avg_1, avg_2)\n",
    "    print(\"avg_1\", avg_1)\n",
    "    print(\"avg_2\", avg_2)\n",
    "    print(\"final\", final)\n",
    "    \n",
    "if __name__ == '__main__':\n",
    "    main()"
   ]
  }
 ],
 "metadata": {
  "language_info": {
   "name": "python"
  }
 },
 "nbformat": 4,
 "nbformat_minor": 5
}
