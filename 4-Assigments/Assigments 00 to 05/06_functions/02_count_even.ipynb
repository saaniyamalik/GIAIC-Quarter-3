{
 "cells": [
  {
   "cell_type": "markdown",
   "id": "c7549fd8",
   "metadata": {},
   "source": [
    "## Problem Statement\n",
    "\n",
    "Fill out the function count_even(lst) which \n",
    "\n",
    "first populates a list by prompting the user for integers until they press enter (please use the prompt \"Enter an integer or press enter to stop: \"), \n",
    "\n",
    "and then prints the number of even numbers in the list. \n",
    "\n",
    "If you'd prefer to focus on the second task only, scroll down for our implementation of the first task!\n",
    "\n",
    "## Solution"
   ]
  },
  {
   "cell_type": "code",
   "execution_count": null,
   "id": "e536a465",
   "metadata": {},
   "outputs": [],
   "source": [
    "def count_even(lst):\n",
    "\n",
    "    count = 0\n",
    "\n",
    "    for num in lst: \n",
    "        if num % 2 == 0:\n",
    "            count += 1  \n",
    "\n",
    "    print(count) \n",
    "\n",
    "def get_list_of_ints():\n",
    "    \n",
    "    lst = [] \n",
    "\n",
    "    while True:\n",
    "        user_input = input(\"Enter an integer or press enter to stop: \") \n",
    "\n",
    "        if user_input == \"\": \n",
    "            break\n",
    "        try: \n",
    "            lst.append(int(user_input))  \n",
    "    \n",
    "        except ValueError:\n",
    "            print(\"Invalid input. Please enter integers only.\")\n",
    "    \n",
    "    return lst\n",
    "\n",
    "\n",
    "def main():\n",
    "\n",
    "    lst = get_list_of_ints()\n",
    "    even_count = count_even(lst)\n",
    "    print(f\"Number of even numbers: {even_count}\")\n",
    "\n",
    "if __name__ == '__main__':\n",
    "    main()\n"
   ]
  }
 ],
 "metadata": {
  "language_info": {
   "name": "python"
  }
 },
 "nbformat": 4,
 "nbformat_minor": 5
}
